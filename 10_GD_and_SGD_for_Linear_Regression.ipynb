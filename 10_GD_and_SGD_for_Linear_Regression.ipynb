{
  "cells": [
    {
      "cell_type": "code",
      "execution_count": null,
      "metadata": {
        "scrolled": true,
        "id": "W1yEDpcKWtkL",
        "outputId": "bf49f93b-de6c-42f3-a392-cd8234182bf5"
      },
      "outputs": [
        {
          "data": {
            "text/html": [
              "<div>\n",
              "<style scoped>\n",
              "    .dataframe tbody tr th:only-of-type {\n",
              "        vertical-align: middle;\n",
              "    }\n",
              "\n",
              "    .dataframe tbody tr th {\n",
              "        vertical-align: top;\n",
              "    }\n",
              "\n",
              "    .dataframe thead th {\n",
              "        text-align: right;\n",
              "    }\n",
              "</style>\n",
              "<table border=\"1\" class=\"dataframe\">\n",
              "  <thead>\n",
              "    <tr style=\"text-align: right;\">\n",
              "      <th></th>\n",
              "      <th>hp</th>\n",
              "      <th>disp</th>\n",
              "      <th>mpg</th>\n",
              "    </tr>\n",
              "  </thead>\n",
              "  <tbody>\n",
              "    <tr>\n",
              "      <th>0</th>\n",
              "      <td>110</td>\n",
              "      <td>160.0</td>\n",
              "      <td>21.0</td>\n",
              "    </tr>\n",
              "    <tr>\n",
              "      <th>1</th>\n",
              "      <td>110</td>\n",
              "      <td>160.0</td>\n",
              "      <td>21.0</td>\n",
              "    </tr>\n",
              "    <tr>\n",
              "      <th>2</th>\n",
              "      <td>93</td>\n",
              "      <td>108.0</td>\n",
              "      <td>22.8</td>\n",
              "    </tr>\n",
              "    <tr>\n",
              "      <th>3</th>\n",
              "      <td>110</td>\n",
              "      <td>258.0</td>\n",
              "      <td>21.4</td>\n",
              "    </tr>\n",
              "    <tr>\n",
              "      <th>4</th>\n",
              "      <td>175</td>\n",
              "      <td>360.0</td>\n",
              "      <td>18.7</td>\n",
              "    </tr>\n",
              "    <tr>\n",
              "      <th>5</th>\n",
              "      <td>105</td>\n",
              "      <td>225.0</td>\n",
              "      <td>18.1</td>\n",
              "    </tr>\n",
              "    <tr>\n",
              "      <th>6</th>\n",
              "      <td>245</td>\n",
              "      <td>360.0</td>\n",
              "      <td>14.3</td>\n",
              "    </tr>\n",
              "    <tr>\n",
              "      <th>7</th>\n",
              "      <td>62</td>\n",
              "      <td>146.7</td>\n",
              "      <td>24.4</td>\n",
              "    </tr>\n",
              "    <tr>\n",
              "      <th>8</th>\n",
              "      <td>95</td>\n",
              "      <td>140.8</td>\n",
              "      <td>22.8</td>\n",
              "    </tr>\n",
              "    <tr>\n",
              "      <th>9</th>\n",
              "      <td>123</td>\n",
              "      <td>167.6</td>\n",
              "      <td>19.2</td>\n",
              "    </tr>\n",
              "    <tr>\n",
              "      <th>10</th>\n",
              "      <td>123</td>\n",
              "      <td>167.6</td>\n",
              "      <td>17.8</td>\n",
              "    </tr>\n",
              "    <tr>\n",
              "      <th>11</th>\n",
              "      <td>180</td>\n",
              "      <td>275.8</td>\n",
              "      <td>16.4</td>\n",
              "    </tr>\n",
              "    <tr>\n",
              "      <th>12</th>\n",
              "      <td>180</td>\n",
              "      <td>275.8</td>\n",
              "      <td>17.3</td>\n",
              "    </tr>\n",
              "    <tr>\n",
              "      <th>13</th>\n",
              "      <td>180</td>\n",
              "      <td>275.8</td>\n",
              "      <td>15.2</td>\n",
              "    </tr>\n",
              "    <tr>\n",
              "      <th>14</th>\n",
              "      <td>205</td>\n",
              "      <td>472.0</td>\n",
              "      <td>10.4</td>\n",
              "    </tr>\n",
              "    <tr>\n",
              "      <th>15</th>\n",
              "      <td>215</td>\n",
              "      <td>460.0</td>\n",
              "      <td>10.4</td>\n",
              "    </tr>\n",
              "    <tr>\n",
              "      <th>16</th>\n",
              "      <td>230</td>\n",
              "      <td>440.0</td>\n",
              "      <td>14.7</td>\n",
              "    </tr>\n",
              "    <tr>\n",
              "      <th>17</th>\n",
              "      <td>66</td>\n",
              "      <td>78.7</td>\n",
              "      <td>32.4</td>\n",
              "    </tr>\n",
              "    <tr>\n",
              "      <th>18</th>\n",
              "      <td>52</td>\n",
              "      <td>75.7</td>\n",
              "      <td>30.4</td>\n",
              "    </tr>\n",
              "    <tr>\n",
              "      <th>19</th>\n",
              "      <td>65</td>\n",
              "      <td>71.1</td>\n",
              "      <td>33.9</td>\n",
              "    </tr>\n",
              "    <tr>\n",
              "      <th>20</th>\n",
              "      <td>97</td>\n",
              "      <td>120.1</td>\n",
              "      <td>21.5</td>\n",
              "    </tr>\n",
              "    <tr>\n",
              "      <th>21</th>\n",
              "      <td>150</td>\n",
              "      <td>318.0</td>\n",
              "      <td>15.5</td>\n",
              "    </tr>\n",
              "    <tr>\n",
              "      <th>22</th>\n",
              "      <td>150</td>\n",
              "      <td>304.0</td>\n",
              "      <td>15.2</td>\n",
              "    </tr>\n",
              "    <tr>\n",
              "      <th>23</th>\n",
              "      <td>245</td>\n",
              "      <td>350.0</td>\n",
              "      <td>13.3</td>\n",
              "    </tr>\n",
              "    <tr>\n",
              "      <th>24</th>\n",
              "      <td>175</td>\n",
              "      <td>400.0</td>\n",
              "      <td>19.2</td>\n",
              "    </tr>\n",
              "    <tr>\n",
              "      <th>25</th>\n",
              "      <td>66</td>\n",
              "      <td>79.0</td>\n",
              "      <td>27.3</td>\n",
              "    </tr>\n",
              "    <tr>\n",
              "      <th>26</th>\n",
              "      <td>91</td>\n",
              "      <td>120.3</td>\n",
              "      <td>26.0</td>\n",
              "    </tr>\n",
              "    <tr>\n",
              "      <th>27</th>\n",
              "      <td>113</td>\n",
              "      <td>95.1</td>\n",
              "      <td>30.4</td>\n",
              "    </tr>\n",
              "    <tr>\n",
              "      <th>28</th>\n",
              "      <td>264</td>\n",
              "      <td>351.0</td>\n",
              "      <td>15.8</td>\n",
              "    </tr>\n",
              "    <tr>\n",
              "      <th>29</th>\n",
              "      <td>175</td>\n",
              "      <td>145.0</td>\n",
              "      <td>19.7</td>\n",
              "    </tr>\n",
              "    <tr>\n",
              "      <th>30</th>\n",
              "      <td>335</td>\n",
              "      <td>301.0</td>\n",
              "      <td>15.0</td>\n",
              "    </tr>\n",
              "    <tr>\n",
              "      <th>31</th>\n",
              "      <td>109</td>\n",
              "      <td>121.0</td>\n",
              "      <td>21.4</td>\n",
              "    </tr>\n",
              "  </tbody>\n",
              "</table>\n",
              "</div>"
            ],
            "text/plain": [
              "     hp   disp   mpg\n",
              "0   110  160.0  21.0\n",
              "1   110  160.0  21.0\n",
              "2    93  108.0  22.8\n",
              "3   110  258.0  21.4\n",
              "4   175  360.0  18.7\n",
              "5   105  225.0  18.1\n",
              "6   245  360.0  14.3\n",
              "7    62  146.7  24.4\n",
              "8    95  140.8  22.8\n",
              "9   123  167.6  19.2\n",
              "10  123  167.6  17.8\n",
              "11  180  275.8  16.4\n",
              "12  180  275.8  17.3\n",
              "13  180  275.8  15.2\n",
              "14  205  472.0  10.4\n",
              "15  215  460.0  10.4\n",
              "16  230  440.0  14.7\n",
              "17   66   78.7  32.4\n",
              "18   52   75.7  30.4\n",
              "19   65   71.1  33.9\n",
              "20   97  120.1  21.5\n",
              "21  150  318.0  15.5\n",
              "22  150  304.0  15.2\n",
              "23  245  350.0  13.3\n",
              "24  175  400.0  19.2\n",
              "25   66   79.0  27.3\n",
              "26   91  120.3  26.0\n",
              "27  113   95.1  30.4\n",
              "28  264  351.0  15.8\n",
              "29  175  145.0  19.7\n",
              "30  335  301.0  15.0\n",
              "31  109  121.0  21.4"
            ]
          },
          "execution_count": 2,
          "metadata": {},
          "output_type": "execute_result"
        }
      ],
      "source": [
        "import pandas as pd\n",
        "import numpy as np\n",
        "import matplotlib.pyplot as plt\n",
        "mtcars = pd.read_csv(\"mtcars.csv\")\n",
        "mtcars=mtcars[['hp','disp','mpg']]\n",
        "mtcars"
      ]
    },
    {
      "cell_type": "code",
      "execution_count": null,
      "metadata": {
        "id": "q91-SC0MWtkO"
      },
      "outputs": [],
      "source": [
        "y = mtcars[\"mpg\"]\n",
        "X = mtcars[[\"hp\",\"disp\"]]"
      ]
    },
    {
      "cell_type": "code",
      "execution_count": null,
      "metadata": {
        "id": "vRKyK1KmWtkO"
      },
      "outputs": [],
      "source": [
        "def standardize(X):\n",
        "    return (X - X.mean())/X.std(), X.mean(), X.std()\n",
        "\n",
        "X,muX,sdX = standardize(X)\n",
        "y,muy,sdy = standardize(y)"
      ]
    },
    {
      "cell_type": "code",
      "execution_count": null,
      "metadata": {
        "id": "cTLR7zYMWtkP"
      },
      "outputs": [],
      "source": [
        "from sklearn.linear_model import LinearRegression "
      ]
    },
    {
      "cell_type": "code",
      "execution_count": null,
      "metadata": {
        "id": "9gn3-WZUWtkP",
        "outputId": "30b02d65-9f8f-4677-d18f-71c0d17941ac"
      },
      "outputs": [
        {
          "data": {
            "text/plain": [
              "LinearRegression()"
            ]
          },
          "execution_count": 6,
          "metadata": {},
          "output_type": "execute_result"
        }
      ],
      "source": [
        "lr=LinearRegression()\n",
        "lr.fit(X,y)"
      ]
    },
    {
      "cell_type": "code",
      "execution_count": null,
      "metadata": {
        "id": "g2gUXG8sWtkQ",
        "outputId": "3a6ee66e-e841-499a-a00e-05d5937d019d"
      },
      "outputs": [
        {
          "data": {
            "text/plain": [
              "4.661287958413497e-16"
            ]
          },
          "execution_count": 7,
          "metadata": {},
          "output_type": "execute_result"
        }
      ],
      "source": [
        "lr.intercept_"
      ]
    },
    {
      "cell_type": "code",
      "execution_count": null,
      "metadata": {
        "id": "NfLMoTrdWtkQ",
        "outputId": "03374b15-0b75-494a-93fa-f0f2724e0ffc"
      },
      "outputs": [
        {
          "data": {
            "text/plain": [
              "array([-0.28258203, -0.62404352])"
            ]
          },
          "execution_count": 8,
          "metadata": {},
          "output_type": "execute_result"
        }
      ],
      "source": [
        "lr.coef_"
      ]
    },
    {
      "cell_type": "code",
      "execution_count": null,
      "metadata": {
        "id": "1b7x4ie4WtkR"
      },
      "outputs": [],
      "source": [
        "def predict(X,w0,w):\n",
        "    return w0 + np.dot(X,w)"
      ]
    },
    {
      "cell_type": "code",
      "execution_count": null,
      "metadata": {
        "id": "dCuxP0CKWtkR"
      },
      "outputs": [],
      "source": [
        "def sse(y,ypred):\n",
        "    return np.sum((ypred-y)**2)"
      ]
    },
    {
      "cell_type": "markdown",
      "metadata": {
        "id": "JyM1JikrWtkR"
      },
      "source": [
        "Note that the linear regression model is\n",
        "$$y=w_0+w_1x_1+w_2x_2$$\n",
        "We want to minimize SSE\n",
        "$$SSE=\\sum_{i=1}^{n}[y-w_0-w_1x_{i1}-w_2x_{i2}]^2$$\n",
        "Hence the gradients can be written as\n",
        "$$\\frac{\\partial SSE}{\\partial w_0}=2\\sum_{i=1}^{n}[y-w_0-w_1x_{i1}-w_2x_{i2}]*-1$$\n",
        "$$\\frac{\\partial SSE}{\\partial w_1}=2\\sum_{i=1}^{n}[y-w_0-w_1x_{i1}-w_2x_{i2}]*-x_{i1}$$\n",
        "$$\\frac{\\partial SSE}{\\partial w_2}=2\\sum_{i=1}^{n}[y-w_0-w_1x_{i1}-w_2x_{i2}]*-x_{i2}$$"
      ]
    },
    {
      "cell_type": "code",
      "execution_count": null,
      "metadata": {
        "id": "ceLO5rPUWtkT"
      },
      "outputs": [],
      "source": [
        "def gradient(y,ypred,X,num_var):\n",
        "    grad_w0 =-np.sum(y-ypred)\n",
        "    grad_w = np.zeros(num_var)\n",
        "    for j in range(num_var):\n",
        "        grad_w[j]=-np.sum((y-ypred)*X.iloc[:,j])\n",
        "    return grad_w0,grad_w"
      ]
    },
    {
      "cell_type": "code",
      "execution_count": null,
      "metadata": {
        "id": "tgxjlZXPWtkU"
      },
      "outputs": [],
      "source": [
        "def update_param(w0,w,grad_w0,grad_w,alpha):\n",
        "    w0_new = w0 - alpha * grad_w0\n",
        "    w_new = np.zeros(len(w))\n",
        "    for i in range(len(w)):\n",
        "        w_new[i] = w[i] - alpha * grad_w[i]\n",
        "    return w0_new,w_new"
      ]
    },
    {
      "cell_type": "code",
      "execution_count": null,
      "metadata": {
        "id": "balkrLH5WtkV",
        "outputId": "be3fdc85-48a8-4db2-8ae9-fe68a17f1377"
      },
      "outputs": [
        {
          "name": "stdout",
          "output_type": "stream",
          "text": [
            "5.040412531798211e-16 [-0.28258203 -0.62404352]\n"
          ]
        },
        {
          "data": {
            "image/png": "[encoded data removed]",
            "text/plain": [
              "<Figure size 432x288 with 1 Axes>"
            ]
          },
          "metadata": {
            "needs_background": "light"
          },
          "output_type": "display_data"
        }
      ],
      "source": [
        "#Gradient Descent\n",
        "w0 = 0\n",
        "w = [0,0]\n",
        "alpha = 0.005\n",
        "num_iter = 1000\n",
        "SSE_list = []\n",
        "for i in range(num_iter):\n",
        "    ypred = predict(X,w0,w)\n",
        "    J = sse(y,ypred)\n",
        "    SSE_list.append(J)\n",
        "    grad_w0, grad_w = gradient(y,ypred,X,num_var=2)\n",
        "    w0, w = update_param(w0,w,grad_w0,grad_w,alpha)\n",
        "\n",
        "plt.plot(SSE_list)\n",
        "plt.xscale('log')\n",
        "print(w0,w)"
      ]
    },
    {
      "cell_type": "markdown",
      "metadata": {
        "id": "87ZKoD6VWtkV"
      },
      "source": [
        "Recall that in stochastic gradient descent we pass a single observation at a time, calculate the cost and update the parameters. Hence we are not obtaining the true direction that minimizes the sum of square errors, but may help us to obtain global optimum in case there are multiple local minimas.\n",
        "$$Error=[y_i-w_0-w_1x_{i1}-w_2x_{i2}]^2$$\n",
        "Hence the gradient at the point can be written as\n",
        "$$\\frac{\\partial SSE}{\\partial w_0}=2[y_i-w_0-w_1x_{i1}-w_2x_{i2}]*-1$$\n",
        "$$\\frac{\\partial SSE}{\\partial w_1}=2[y_i-w_0-w_1x_{i1}-w_2x_{i2}]*-x_{i1}$$\n",
        "$$\\frac{\\partial SSE}{\\partial w_2}=2[y_i-w_0-w_1x_{i1}-w_2x_{i2}]*-x_{i2}$$"
      ]
    },
    {
      "cell_type": "code",
      "execution_count": null,
      "metadata": {
        "id": "b5ztEhPaWtkW"
      },
      "outputs": [],
      "source": [
        "def gradientatSinglePoint(y,ypred,x,num_var):\n",
        "    grad_w0 = -1*(y-ypred)\n",
        "    grad_w = np.zeros(num_var)\n",
        "    for j in range(num_var):\n",
        "        grad_w[j]=-1*(y-ypred)*x[j]\n",
        "    return grad_w0,grad_w"
      ]
    },
    {
      "cell_type": "code",
      "execution_count": null,
      "metadata": {
        "id": "z-PKj4wdWtkW"
      },
      "outputs": [],
      "source": [
        "#Stochastic Gradient Descent\n",
        "SSE_list = []\n",
        "w0 = 0\n",
        "w = [0,0]\n",
        "alpha = 0.005\n",
        "#pass over the whole data set 500 times\n",
        "for k in range(1000):\n",
        "    for i in range(len(X)):\n",
        "        #Make prediction for one point\n",
        "        ypred = predict(X.iloc[i,:],w0,w)\n",
        "        #compute errors at that point\n",
        "        J = sse(y[i],ypred)\n",
        "        SSE_list.append(J)\n",
        "        grad_w0, grad_w = gradientatSinglePoint(y[i],ypred,X.iloc[i,:],num_var=2)\n",
        "        #update the parameters by using the gradient at single point\n",
        "        w0, w = update_param(w0,w,grad_w0,grad_w,alpha)"
      ]
    },
    {
      "cell_type": "code",
      "execution_count": null,
      "metadata": {
        "id": "9mOLe0COWtkX",
        "outputId": "1b7ec553-c991-48dd-f16b-25a92cf1ceb8"
      },
      "outputs": [
        {
          "name": "stdout",
          "output_type": "stream",
          "text": [
            "0.006486243044896319 [-0.28167617 -0.62716372]\n"
          ]
        },
        {
          "data": {
            "image/png": "[encoded data removed]",
            "text/plain": [
              "<Figure size 432x288 with 1 Axes>"
            ]
          },
          "metadata": {
            "needs_background": "light"
          },
          "output_type": "display_data"
        }
      ],
      "source": [
        "plt.plot(SSE_list)\n",
        "plt.xscale('log')\n",
        "print(w0,w)"
      ]
    },
    {
      "cell_type": "code",
      "execution_count": null,
      "metadata": {
        "id": "kNBKDErpWtkX"
      },
      "outputs": [],
      "source": [
        "X.iloc[0,:]"
      ]
    },
    {
      "cell_type": "code",
      "execution_count": null,
      "metadata": {
        "id": "4N7jxlqaWtkY"
      },
      "outputs": [],
      "source": []
    }
  ],
  "metadata": {
    "kernelspec": {
      "display_name": "Python 3",
      "language": "python",
      "name": "python3"
    },
    "language_info": {
      "codemirror_mode": {
        "name": "ipython",
        "version": 3
      },
      "file_extension": ".py",
      "mimetype": "text/x-python",
      "name": "python",
      "nbconvert_exporter": "python",
      "pygments_lexer": "ipython3",
      "version": "3.8.8"
    },
    "colab": {
      "provenance": []
    }
  },
  "nbformat": 4,
  "nbformat_minor": 0
}