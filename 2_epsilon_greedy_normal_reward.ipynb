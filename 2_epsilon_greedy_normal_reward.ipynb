{
  "cells": [
    {
      "cell_type": "code",
      "execution_count": null,
      "metadata": {
        "id": "RERF8QlHV6f9"
      },
      "outputs": [],
      "source": [
        "import matplotlib.pyplot as plt\n",
        "import numpy as np"
      ]
    },
    {
      "cell_type": "code",
      "execution_count": null,
      "metadata": {
        "id": "TrKM6MJVV6f_"
      },
      "outputs": [],
      "source": [
        "class Bandit:\n",
        "    def __init__(self, m):\n",
        "        self.m = m\n",
        "        self.m_estimate = 0.\n",
        "        self.k = 0. # num samples collected so far for the bandit\n",
        "    def pull(self):\n",
        "    # Generates a random normally distributed reward with mean m and standard deviation 1\n",
        "        return np.random.randn()+self.m\n",
        "    def update(self, R):\n",
        "        self.k += 1.\n",
        "        self.m_estimate = self.m_estimate + (1/self.k)*(R-self.m_estimate)"
      ]
    },
    {
      "cell_type": "code",
      "execution_count": null,
      "metadata": {
        "id": "z0rQpHFOV6gA"
      },
      "outputs": [],
      "source": [
        "def run_experiment(m1, m2, m3, eps, N):\n",
        "    bandits = [Bandit(m1), Bandit(m2), Bandit(m3)]\n",
        "    data = np.empty(N)\n",
        "    for i in range(N):\n",
        "    # epsilon greedy\n",
        "        p = np.random.random()\n",
        "        if p < eps:\n",
        "            j = np.random.choice(3)\n",
        "        else:\n",
        "            j = np.argmax([b.m_estimate for b in bandits])\n",
        "        x = bandits[j].pull()\n",
        "        bandits[j].update(x)\n",
        "        # for the plot\n",
        "        data[i] = x\n",
        "    cumulative_average = np.cumsum(data) / (np.arange(N) + 1)\n",
        "\n",
        "  # plot moving average ctr\n",
        "    plt.plot(cumulative_average)\n",
        "    plt.plot(np.ones(N)*m1)\n",
        "    plt.plot(np.ones(N)*m2)\n",
        "    plt.plot(np.ones(N)*m3)\n",
        "    plt.xscale('log')\n",
        "    plt.show()\n",
        "\n",
        "    for b in bandits:\n",
        "        print(b.m_estimate)\n",
        "    return cumulative_average"
      ]
    },
    {
      "cell_type": "code",
      "execution_count": null,
      "metadata": {
        "id": "684rYgJNV6gB",
        "outputId": "745fc26e-6511-453e-d936-9bf1ef833dcd"
      },
      "outputs": [
        {
          "data": {
            "image/png": "[encoded data removed]",
            "text/plain": [
              "<Figure size 432x288 with 1 Axes>"
            ]
          },
          "metadata": {
            "needs_background": "light"
          },
          "output_type": "display_data"
        },
        {
          "name": "stdout",
          "output_type": "stream",
          "text": [
            "1.0014348084639986\n",
            "0.0\n",
            "0.0\n"
          ]
        },
        {
          "data": {
            "text/plain": [
              "array([1.35164509, 0.87641393, 0.61928344, ..., 1.00143098, 1.00143813,\n",
              "       1.00143481])"
            ]
          },
          "execution_count": 6,
          "metadata": {},
          "output_type": "execute_result"
        }
      ],
      "source": [
        "run_experiment(1, 2, 3, 0, 100000)"
      ]
    },
    {
      "cell_type": "code",
      "execution_count": null,
      "metadata": {
        "id": "w4h2E9CSV6gC"
      },
      "outputs": [],
      "source": []
    }
  ],
  "metadata": {
    "kernelspec": {
      "display_name": "Python 3",
      "language": "python",
      "name": "python3"
    },
    "language_info": {
      "codemirror_mode": {
        "name": "ipython",
        "version": 3
      },
      "file_extension": ".py",
      "mimetype": "text/x-python",
      "name": "python",
      "nbconvert_exporter": "python",
      "pygments_lexer": "ipython3",
      "version": "3.8.5"
    },
    "colab": {
      "provenance": []
    }
  },
  "nbformat": 4,
  "nbformat_minor": 0
}