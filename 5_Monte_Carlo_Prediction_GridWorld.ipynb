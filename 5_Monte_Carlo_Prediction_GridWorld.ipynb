{
  "cells": [
    {
      "cell_type": "code",
      "execution_count": null,
      "metadata": {
        "id": "zzsC419lWUNJ"
      },
      "outputs": [],
      "source": [
        "import GridWorld\n",
        "import numpy as np"
      ]
    },
    {
      "cell_type": "code",
      "execution_count": null,
      "metadata": {
        "id": "BniXoiUvWUNL"
      },
      "outputs": [],
      "source": [
        "robot=GridWorld.grid_world()"
      ]
    },
    {
      "cell_type": "code",
      "execution_count": null,
      "metadata": {
        "id": "2jt5VatNWUNL"
      },
      "outputs": [],
      "source": [
        "def print_values(V, rows,columns):\n",
        "    for i in range(rows):\n",
        "        print(\"---------------------------\")\n",
        "        for j in range(columns):\n",
        "            v = V.get((i,j), 0)\n",
        "            if v >= 0:\n",
        "                print(\" %.2f|\" % v, end=\"\")\n",
        "            else:\n",
        "                print(\"%.2f|\" % v, end=\"\") # -ve sign takes up an extra space\n",
        "        print(\"\")"
      ]
    },
    {
      "cell_type": "code",
      "execution_count": null,
      "metadata": {
        "id": "GrD5o39EWUNL"
      },
      "outputs": [],
      "source": [
        "robot.step('U')"
      ]
    },
    {
      "cell_type": "code",
      "execution_count": null,
      "metadata": {
        "id": "7Q-UdxV0WUNM"
      },
      "outputs": [],
      "source": [
        "robot.s"
      ]
    },
    {
      "cell_type": "code",
      "execution_count": null,
      "metadata": {
        "id": "5TslOOfQWUNM"
      },
      "outputs": [],
      "source": [
        "### fixed policy ###\n",
        "policy = {\n",
        "    (2, 0): 'U',\n",
        "    (1, 0): 'U',\n",
        "    (0, 0): 'R',\n",
        "    (0, 1): 'R',\n",
        "    (0, 2): 'R',\n",
        "    (1, 2): 'U',\n",
        "    (2, 1): 'R',\n",
        "    (2, 2): 'U',\n",
        "    (2, 3): 'L',\n",
        "  }"
      ]
    },
    {
      "cell_type": "code",
      "execution_count": null,
      "metadata": {
        "id": "-mW-b4cVWUNM"
      },
      "outputs": [],
      "source": [
        "def play_episode(policy,max_steps=20):\n",
        "    \n",
        "    # keep track of all states and rewards encountered\n",
        "    episodestates = [robot.initial_state()]\n",
        "    episoderewards = [0]\n",
        "    steps = 0\n",
        "    done=False\n",
        "    while not done:\n",
        "        a = policy[robot.s]\n",
        "        next_s,r,done=robot.step(a)\n",
        "        episodestates.append(next_s)\n",
        "        episoderewards.append(r)\n",
        "        steps += 1\n",
        "        if steps >= max_steps:\n",
        "            break\n",
        "    # we want to return:\n",
        "    # gamestates  = [s(0), s(1), ..., S(T)]\n",
        "    # gamerewards = [R(0), R(1), ..., R(T)]\n",
        "\n",
        "    return episodestates, episoderewards"
      ]
    },
    {
      "cell_type": "code",
      "execution_count": null,
      "metadata": {
        "id": "_8w95xP8WUNM"
      },
      "outputs": [],
      "source": [
        "play_episode(policy,max_steps=20)"
      ]
    },
    {
      "cell_type": "code",
      "execution_count": null,
      "metadata": {
        "id": "aQGTQMMFWUNN"
      },
      "outputs": [],
      "source": [
        "# initialize V(s) and returns\n",
        "GAMMA=0.9\n",
        "V = {}\n",
        "returns = {} # dictionary of state -> list of returns we've received\n",
        "for s in robot.States:\n",
        "    if s in robot.actions.keys():\n",
        "        returns[s] = []\n",
        "    else:\n",
        "        # terminal state or state we can't otherwise get to\n",
        "        V[s] = 0\n",
        "# repeat\n",
        "for t in range(100):\n",
        "    # generate an episode using pi\n",
        "    episodestates, episoderewards = play_episode(policy,max_steps=20)\n",
        "    G = 0\n",
        "    T = len(episodestates)\n",
        "    for t in range(T - 2, -1, -1):\n",
        "        s = episodestates[t]\n",
        "        r = episoderewards[t+1]\n",
        "        G = r + GAMMA * G # update return\n",
        "\n",
        "      # we'll use first-visit Monte Carlo\n",
        "        if s not in episodestates[:t]:\n",
        "            returns[s].append(G)\n",
        "            V[s] = np.mean(returns[s])"
      ]
    },
    {
      "cell_type": "code",
      "execution_count": null,
      "metadata": {
        "id": "DcD_uhSMWUNN"
      },
      "outputs": [],
      "source": [
        "print_values(V,3,4)"
      ]
    },
    {
      "cell_type": "code",
      "execution_count": null,
      "metadata": {
        "id": "bGRHfvdbWUNN"
      },
      "outputs": [],
      "source": [
        "for t in range(5 - 2, -1, -1):\n",
        "    print(t)"
      ]
    },
    {
      "cell_type": "code",
      "execution_count": null,
      "metadata": {
        "id": "CewxrzKHWUNO"
      },
      "outputs": [],
      "source": []
    }
  ],
  "metadata": {
    "kernelspec": {
      "display_name": "Python 3",
      "language": "python",
      "name": "python3"
    },
    "language_info": {
      "codemirror_mode": {
        "name": "ipython",
        "version": 3
      },
      "file_extension": ".py",
      "mimetype": "text/x-python",
      "name": "python",
      "nbconvert_exporter": "python",
      "pygments_lexer": "ipython3",
      "version": "3.8.8"
    },
    "colab": {
      "provenance": []
    }
  },
  "nbformat": 4,
  "nbformat_minor": 0
}