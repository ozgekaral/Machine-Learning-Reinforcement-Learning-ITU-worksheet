{
  "cells": [
    {
      "cell_type": "code",
      "execution_count": null,
      "metadata": {
        "id": "ZqEATww3WoSS"
      },
      "outputs": [],
      "source": [
        "import matplotlib.pyplot as plt\n",
        "import GridWorld\n",
        "import numpy as np\n",
        "import pandas as pd"
      ]
    },
    {
      "cell_type": "code",
      "execution_count": null,
      "metadata": {
        "id": "Jtuwf3SVWoSU"
      },
      "outputs": [],
      "source": [
        "robot=GridWorld.grid_world()"
      ]
    },
    {
      "cell_type": "code",
      "execution_count": null,
      "metadata": {
        "id": "g69Qxdk4WoSU"
      },
      "outputs": [],
      "source": [
        "def print_values(V, rows,columns):\n",
        "    for i in range(rows):\n",
        "        print(\"---------------------------\")\n",
        "        for j in range(columns):\n",
        "            v = V.get((i,j), 0)\n",
        "            if v >= 0:\n",
        "                print(\" %.2f|\" % v, end=\"\")\n",
        "            else:\n",
        "                print(\"%.2f|\" % v, end=\"\") # -ve sign takes up an extra space\n",
        "        print(\"\")\n",
        "def print_policy(policy,rows,columns):\n",
        "    for i in range(rows):\n",
        "        print(\"---------------------------\")\n",
        "        for j in range(columns):\n",
        "            a = policy.get((i,j), ' ')\n",
        "            print(\"  %s  |\" % a, end=\"\")\n",
        "        print(\"\")"
      ]
    },
    {
      "cell_type": "code",
      "execution_count": null,
      "metadata": {
        "id": "Z3hTVxFRWoSV"
      },
      "outputs": [],
      "source": [
        "def max_dict(d):\n",
        "    # returns the argmax (key) and max (value) from a dictionary\n",
        "    # put this into a function since we are using it so often\n",
        "\n",
        "    # find max val\n",
        "    max_val = max(d.values())\n",
        "\n",
        "    # find keys corresponding to max val\n",
        "    max_keys = [key for key, val in d.items() if val == max_val]\n",
        "\n",
        "    return np.random.choice(max_keys), max_val"
      ]
    },
    {
      "cell_type": "code",
      "execution_count": null,
      "metadata": {
        "id": "BYks3r3zWoSW"
      },
      "outputs": [],
      "source": [
        "def epsilon_greedy(Q, s, eps=0.1):\n",
        "    if np.random.random() < eps:\n",
        "        return np.random.choice(robot.ACTION_SPACE)\n",
        "    else:\n",
        "        a_opt = max_dict(Q[s])[0]\n",
        "    return a_opt"
      ]
    },
    {
      "cell_type": "code",
      "execution_count": null,
      "metadata": {
        "id": "QcYVHvibWoSX"
      },
      "outputs": [],
      "source": [
        "# initialize Q(s,a) and returns\n",
        "Q = {}\n",
        "sample_counts = {}\n",
        "for s in robot.States:\n",
        "    Q[s] = {}\n",
        "    sample_counts[s] = {}\n",
        "    for a in robot.ACTION_SPACE:\n",
        "        Q[s][a] = 0"
      ]
    },
    {
      "cell_type": "code",
      "execution_count": null,
      "metadata": {
        "id": "DruCiiRiWoSX"
      },
      "outputs": [],
      "source": [
        "GAMMA=0.9\n",
        "ALPHA = 0.1\n",
        "update_counts = {}\n",
        "# repeat until convergence\n",
        "reward_per_episode = []\n",
        "for it in range(10000):\n",
        "    if it % 1000 == 0:\n",
        "        print(\"it:\", it)\n",
        "    # begin a new episode\n",
        "    s=robot.initial_state()\n",
        "#    print(s)\n",
        "    episode_reward = 0\n",
        "    done=False\n",
        "    while not done:\n",
        "        # perform action and get next state + reward\n",
        "        a = epsilon_greedy(Q, s, eps=0.1)\n",
        "        s2, r, done=robot.step(a)\n",
        "#        print(r)\n",
        "        # update reward\n",
        "        episode_reward += r\n",
        "        # update Q(s,a)\n",
        "        maxQ = max_dict(Q[s2])[1]\n",
        "        Q[s][a] = Q[s][a] + ALPHA*(r + GAMMA*maxQ - Q[s][a])\n",
        "\n",
        "        # we would like to know how often Q(s) has been updated too\n",
        "        update_counts[s] = update_counts.get(s,0) + 1\n",
        "\n",
        "        # next state becomes current state\n",
        "        s = s2\n",
        "\n",
        "        # log the reward for this episode\n",
        "        reward_per_episode.append(episode_reward)\n",
        "\n",
        "plt.plot(reward_per_episode)\n",
        "plt.title(\"reward_per_episode\")\n",
        "plt.show()"
      ]
    },
    {
      "cell_type": "code",
      "execution_count": null,
      "metadata": {
        "id": "LMS6osm4WoSX"
      },
      "outputs": [],
      "source": [
        "# determine the policy from Q*\n",
        "# find V* from Q*\n",
        "policy = {}\n",
        "V = {}\n",
        "for s in robot.actions.keys():\n",
        "    a, max_q = max_dict(Q[s])\n",
        "    policy[s] = a\n",
        "    V[s] = max_q"
      ]
    },
    {
      "cell_type": "code",
      "execution_count": null,
      "metadata": {
        "id": "r9fx-Z_xWoSY"
      },
      "outputs": [],
      "source": [
        "print_policy(policy,3,4)"
      ]
    },
    {
      "cell_type": "code",
      "execution_count": null,
      "metadata": {
        "id": "tYcRQJvMWoSY"
      },
      "outputs": [],
      "source": [
        "print_values(V,3,4)"
      ]
    },
    {
      "cell_type": "code",
      "execution_count": null,
      "metadata": {
        "id": "Hr93NJ1qWoSY"
      },
      "outputs": [],
      "source": [
        "update_counts"
      ]
    },
    {
      "cell_type": "code",
      "execution_count": null,
      "metadata": {
        "id": "0dHuzdy8WoSZ"
      },
      "outputs": [],
      "source": [
        "state_sample_count_arr = np.zeros((3, 4))\n",
        "for i in range(3):\n",
        "    for j in range(4):\n",
        "        if (i, j) in update_counts:\n",
        "            state_sample_count_arr[i,j] = update_counts[(i, j)]\n",
        "    df = pd.DataFrame(state_sample_count_arr)\n",
        "print(df)"
      ]
    },
    {
      "cell_type": "code",
      "execution_count": null,
      "metadata": {
        "id": "LmRkM40qWoSZ"
      },
      "outputs": [],
      "source": []
    }
  ],
  "metadata": {
    "kernelspec": {
      "display_name": "Python 3",
      "language": "python",
      "name": "python3"
    },
    "language_info": {
      "codemirror_mode": {
        "name": "ipython",
        "version": 3
      },
      "file_extension": ".py",
      "mimetype": "text/x-python",
      "name": "python",
      "nbconvert_exporter": "python",
      "pygments_lexer": "ipython3",
      "version": "3.8.8"
    },
    "colab": {
      "provenance": []
    }
  },
  "nbformat": 4,
  "nbformat_minor": 0
}