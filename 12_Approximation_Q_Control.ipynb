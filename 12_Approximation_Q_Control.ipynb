{
  "cells": [
    {
      "cell_type": "code",
      "execution_count": null,
      "metadata": {
        "id": "89X8leK3W3xr"
      },
      "outputs": [],
      "source": [
        "import matplotlib.pyplot as plt\n",
        "import GridWorld\n",
        "import numpy as np\n",
        "import pandas as pd"
      ]
    },
    {
      "cell_type": "code",
      "execution_count": null,
      "metadata": {
        "id": "UW7vlKRxW3xu"
      },
      "outputs": [],
      "source": [
        "robot=GridWorld.grid_world()"
      ]
    },
    {
      "cell_type": "code",
      "execution_count": null,
      "metadata": {
        "id": "Dlqe3FW3W3xu"
      },
      "outputs": [],
      "source": [
        "def print_values(V, rows,columns):\n",
        "    for i in range(rows):\n",
        "        print(\"---------------------------\")\n",
        "        for j in range(columns):\n",
        "            v = V.get((i,j), 0)\n",
        "            if v >= 0:\n",
        "                print(\" %.2f|\" % v, end=\"\")\n",
        "            else:\n",
        "                print(\"%.2f|\" % v, end=\"\") # -ve sign takes up an extra space\n",
        "        print(\"\")\n",
        "def print_policy(policy,rows,columns):\n",
        "    for i in range(rows):\n",
        "        print(\"---------------------------\")\n",
        "        for j in range(columns):\n",
        "            a = policy.get((i,j), ' ')\n",
        "            print(\"  %s  |\" % a, end=\"\")\n",
        "        print(\"\")"
      ]
    },
    {
      "cell_type": "code",
      "execution_count": null,
      "metadata": {
        "id": "a-Ej38z_W3xv"
      },
      "outputs": [],
      "source": [
        "ACTION2INT = {a: i for i, a in enumerate(robot.ACTION_SPACE)}\n",
        "INT2ONEHOT = np.eye(len(robot.ACTION_SPACE))"
      ]
    },
    {
      "cell_type": "code",
      "execution_count": null,
      "metadata": {
        "id": "0KnARGz9W3xv"
      },
      "outputs": [],
      "source": [
        "ACTION2INT"
      ]
    },
    {
      "cell_type": "code",
      "execution_count": null,
      "metadata": {
        "id": "ilF1nLmtW3xw"
      },
      "outputs": [],
      "source": [
        "INT2ONEHOT"
      ]
    },
    {
      "cell_type": "code",
      "execution_count": null,
      "metadata": {
        "id": "ABY_5_HgW3xw"
      },
      "outputs": [],
      "source": [
        "def one_hot(k):\n",
        "    return INT2ONEHOT[k]"
      ]
    },
    {
      "cell_type": "code",
      "execution_count": null,
      "metadata": {
        "id": "JgLCvS52W3xw"
      },
      "outputs": [],
      "source": [
        "def merge_state_action(s, a):\n",
        "    ai = one_hot(ACTION2INT[a])\n",
        "    return np.concatenate((s, ai))"
      ]
    },
    {
      "cell_type": "code",
      "execution_count": null,
      "metadata": {
        "id": "5S3HBR9pW3xw"
      },
      "outputs": [],
      "source": [
        "s=[0,0]\n",
        "a='U'\n",
        "merge_state_action(s, a)"
      ]
    },
    {
      "cell_type": "code",
      "execution_count": null,
      "metadata": {
        "id": "O3y6VvlYW3xx"
      },
      "outputs": [],
      "source": [
        "def predictV(s,a,w):\n",
        "    sa = merge_state_action(s, a)\n",
        "    x = rbf_feature.transform([sa])[0]\n",
        "    return np.dot(x,w)"
      ]
    },
    {
      "cell_type": "code",
      "execution_count": null,
      "metadata": {
        "id": "1xP3byyAW3xx"
      },
      "outputs": [],
      "source": [
        "def gradientV(s,a):\n",
        "    sa = merge_state_action(s, a)\n",
        "    x = rbf_feature.transform([sa])[0]\n",
        "    return x"
      ]
    },
    {
      "cell_type": "code",
      "execution_count": null,
      "metadata": {
        "id": "lR2A04ApW3xx"
      },
      "outputs": [],
      "source": [
        "def predictV_all_actions(s,w):\n",
        "    values=[]\n",
        "    for a in robot.ACTION_SPACE:\n",
        "        values.append(predictV(s,a,w))\n",
        "    return values"
      ]
    },
    {
      "cell_type": "code",
      "execution_count": null,
      "metadata": {
        "id": "VNAc_G78W3xy"
      },
      "outputs": [],
      "source": [
        "def epsilon_greedy(s, w, eps=0.1):\n",
        "    values=[]\n",
        "    p = np.random.random()\n",
        "    if p < (1 - eps):\n",
        "        values = predictV_all_actions(s,w)\n",
        "        return robot.ACTION_SPACE[np.argmax(values)]\n",
        "    else:\n",
        "        return np.random.choice(robot.ACTION_SPACE)"
      ]
    },
    {
      "cell_type": "code",
      "execution_count": null,
      "metadata": {
        "id": "ldG7MGqcW3xy"
      },
      "outputs": [],
      "source": [
        "def gather_samples(n_episodes=10000):\n",
        "    samples = []\n",
        "    for i in range(n_episodes):\n",
        "        s = robot.initial_state()\n",
        "        done=False\n",
        "        while not done:\n",
        "            a=np.random.choice(robot.ACTION_SPACE) #random action\n",
        "            sa = merge_state_action(s, a)\n",
        "            samples.append(sa)\n",
        "            s, r, done= robot.step(a)\n",
        "    return samples"
      ]
    },
    {
      "cell_type": "code",
      "execution_count": null,
      "metadata": {
        "id": "0IVqHbrIW3xy"
      },
      "outputs": [],
      "source": [
        "from sklearn.kernel_approximation import RBFSampler\n",
        "samples=gather_samples(n_episodes=10000)\n",
        "rbf_feature = RBFSampler(n_components=100)\n",
        "rbf_feature.fit(samples)"
      ]
    },
    {
      "cell_type": "code",
      "execution_count": null,
      "metadata": {
        "id": "UjWr5yH3W3xz"
      },
      "outputs": [],
      "source": [
        "samples"
      ]
    },
    {
      "cell_type": "code",
      "execution_count": null,
      "metadata": {
        "id": "bsTJuUq8W3xz"
      },
      "outputs": [],
      "source": [
        "sa=[0,0,0,0,0,1]\n",
        "rbf_feature.transform([sa])"
      ]
    },
    {
      "cell_type": "code",
      "execution_count": null,
      "metadata": {
        "id": "tnSZJm_gW3xz"
      },
      "outputs": [],
      "source": [
        "GAMMA=0.9\n",
        "ALPHA = 0.01\n",
        "#Initialize weights as zero\n",
        "#RBFSampler has 100 dimensions as default, hence we have 100 features and weights\n",
        "w = np.zeros(100) \n",
        "n_episodes = 20000\n",
        "for it in range(n_episodes):\n",
        "    # begin a new episode\n",
        "    s=robot.initial_state()\n",
        "    done=False\n",
        "    while not done:\n",
        "        a = epsilon_greedy(s, w, eps=0.1)\n",
        "        s2, r, done=robot.step(a)\n",
        "        if done:\n",
        "            target = r\n",
        "        else:\n",
        "            values = predictV_all_actions(s2,w)\n",
        "            target = r + GAMMA * np.max(values)               \n",
        "        # update the weights\n",
        "        g = gradientV(s,a)\n",
        "        err=target - predictV(s,a,w)\n",
        "        w += ALPHA * err * g\n",
        "        # update state\n",
        "        s = s2      "
      ]
    },
    {
      "cell_type": "code",
      "execution_count": null,
      "metadata": {
        "id": "fhUb1yMkW3xz"
      },
      "outputs": [],
      "source": [
        "# obtain V* and pi*\n",
        "V = {}\n",
        "greedy_policy = {}\n",
        "for s in robot.States:\n",
        "    if s not in robot.actions.keys():\n",
        "        V[s] = 0\n",
        "    else:\n",
        "        values = predictV_all_actions(s,w)\n",
        "        V[s] = np.max(values)\n",
        "        greedy_policy[s] = robot.ACTION_SPACE[np.argmax(values)]"
      ]
    },
    {
      "cell_type": "code",
      "execution_count": null,
      "metadata": {
        "scrolled": true,
        "id": "3VWw3XX7W3x0"
      },
      "outputs": [],
      "source": [
        "print_policy(greedy_policy,3,4)"
      ]
    },
    {
      "cell_type": "code",
      "execution_count": null,
      "metadata": {
        "id": "Wz9VTLbIW3x0"
      },
      "outputs": [],
      "source": [
        "print_values(V,3,4)"
      ]
    },
    {
      "cell_type": "code",
      "execution_count": null,
      "metadata": {
        "id": "_4xKi-UYW3x0"
      },
      "outputs": [],
      "source": []
    }
  ],
  "metadata": {
    "kernelspec": {
      "display_name": "Python 3",
      "language": "python",
      "name": "python3"
    },
    "language_info": {
      "codemirror_mode": {
        "name": "ipython",
        "version": 3
      },
      "file_extension": ".py",
      "mimetype": "text/x-python",
      "name": "python",
      "nbconvert_exporter": "python",
      "pygments_lexer": "ipython3",
      "version": "3.8.8"
    },
    "colab": {
      "provenance": []
    }
  },
  "nbformat": 4,
  "nbformat_minor": 0
}