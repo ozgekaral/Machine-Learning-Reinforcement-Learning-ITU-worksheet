{
  "cells": [
    {
      "cell_type": "code",
      "execution_count": null,
      "metadata": {
        "id": "HUoT_a9zWy3a"
      },
      "outputs": [],
      "source": [
        "import matplotlib.pyplot as plt\n",
        "import GridWorld\n",
        "import numpy as np\n",
        "import pandas as pd"
      ]
    },
    {
      "cell_type": "code",
      "execution_count": null,
      "metadata": {
        "id": "WT12U67qWy3b"
      },
      "outputs": [],
      "source": [
        "robot=GridWorld.grid_world()"
      ]
    },
    {
      "cell_type": "code",
      "execution_count": null,
      "metadata": {
        "id": "2amZO4pyWy3c"
      },
      "outputs": [],
      "source": [
        "def print_values(V, rows,columns):\n",
        "    for i in range(rows):\n",
        "        print(\"---------------------------\")\n",
        "        for j in range(columns):\n",
        "            v = V.get((i,j), 0)\n",
        "            if v >= 0:\n",
        "                print(\" %.2f|\" % v, end=\"\")\n",
        "            else:\n",
        "                print(\"%.2f|\" % v, end=\"\") # -ve sign takes up an extra space\n",
        "        print(\"\")\n",
        "def print_policy(policy,rows,columns):\n",
        "    for i in range(rows):\n",
        "        print(\"---------------------------\")\n",
        "        for j in range(columns):\n",
        "            a = policy.get((i,j), ' ')\n",
        "            print(\"  %s  |\" % a, end=\"\")\n",
        "        print(\"\")"
      ]
    },
    {
      "cell_type": "code",
      "execution_count": null,
      "metadata": {
        "id": "TsXf9JcKWy3c"
      },
      "outputs": [],
      "source": [
        "### fixed policy ###\n",
        "policy={(0, 0): 'R',\n",
        " (0, 1): 'R',\n",
        " (0, 2): 'R',\n",
        " (1, 0): 'U',\n",
        " (1, 2): 'U',\n",
        " (2, 0): 'U',\n",
        " (2, 1): 'L',\n",
        " (2, 2): 'U',\n",
        " (2, 3): 'L'\n",
        "       }"
      ]
    },
    {
      "cell_type": "code",
      "execution_count": null,
      "metadata": {
        "id": "VVD_AvxsWy3c"
      },
      "outputs": [],
      "source": [
        "X = [[0, 0], [1, 1], [2, 0], [0, 2]]\n",
        "from sklearn.preprocessing import PolynomialFeatures\n",
        "poly_features = PolynomialFeatures(degree=1)\n",
        "poly_features.fit_transform(X)"
      ]
    },
    {
      "cell_type": "code",
      "execution_count": null,
      "metadata": {
        "id": "qDGvl_JzWy3d"
      },
      "outputs": [],
      "source": [
        "poly_features.fit_transform(robot.States)"
      ]
    },
    {
      "cell_type": "code",
      "execution_count": null,
      "metadata": {
        "id": "J9P94mTAWy3d"
      },
      "outputs": [],
      "source": [
        "poly_features.n_output_features_"
      ]
    },
    {
      "cell_type": "code",
      "execution_count": null,
      "metadata": {
        "id": "ob46ZIXGWy3d"
      },
      "outputs": [],
      "source": [
        "def predictV(s,w,featurizer):\n",
        "    if featurizer=='poly':\n",
        "        x = poly_features.fit_transform([s])[0]\n",
        "    elif featurizer=='nystroem':\n",
        "        x=Nystroem_featurizer.transform([s])[0]\n",
        "    else:\n",
        "        x=rbf_featurizer.transform([s])[0]\n",
        "    return np.dot(x,w)"
      ]
    },
    {
      "cell_type": "code",
      "execution_count": null,
      "metadata": {
        "id": "hZecrKzlWy3e"
      },
      "outputs": [],
      "source": [
        "def gradientV(s,featurizer):\n",
        "    if featurizer=='poly':\n",
        "        x = poly_features.fit_transform([s])[0]\n",
        "    elif featurizer=='nystroem':\n",
        "        x=Nystroem_featurizer.transform([s])[0]\n",
        "    else:\n",
        "        x=rbf_featurizer.transform([s])[0]\n",
        "    return x"
      ]
    },
    {
      "cell_type": "code",
      "execution_count": null,
      "metadata": {
        "id": "Hf0MgQm_Wy3e"
      },
      "outputs": [],
      "source": [
        "def epsilon_greedy(greedy, s, eps=0.1):\n",
        "  # we'll use epsilon-soft to ensure all states are visited\n",
        "  # what happens if you don't do this? i.e. eps=0\n",
        "    p = np.random.random()\n",
        "    if p < (1 - eps):\n",
        "        return greedy[s]\n",
        "    else:\n",
        "        return np.random.choice(robot.ACTION_SPACE)"
      ]
    },
    {
      "cell_type": "code",
      "execution_count": null,
      "metadata": {
        "id": "u4zjCHFTWy3f"
      },
      "outputs": [],
      "source": [
        "GAMMA=0.9\n",
        "ALPHA = 0.01\n",
        "#Initialize weights as zero\n",
        "poly_features = PolynomialFeatures(degree=1)\n",
        "poly_features.fit_transform(robot.States)\n",
        "w = np.zeros(poly_features.n_output_features_) \n",
        "n_episodes = 20000\n",
        "for it in range(n_episodes):\n",
        "    # begin a new episode\n",
        "    s=robot.initial_state()\n",
        "    Vs=predictV(s,w,featurizer='poly')\n",
        "    done=False\n",
        "    while not done:\n",
        "        a = epsilon_greedy(policy, s, eps=0.1)\n",
        "        next_s, r, done=robot.step(a)\n",
        "        if done:\n",
        "            target = r\n",
        "        else:\n",
        "            Vnext_s = predictV(next_s,w,featurizer='poly')\n",
        "            target = r + GAMMA * Vnext_s\n",
        "        # update the weights\n",
        "        g = gradientV(s,featurizer='poly')\n",
        "        err = target - predictV(s,w,featurizer='poly')\n",
        "        w += ALPHA * err * g\n",
        "        # update state\n",
        "        s = next_s"
      ]
    },
    {
      "cell_type": "code",
      "execution_count": null,
      "metadata": {
        "id": "q_M7_r6LWy3g"
      },
      "outputs": [],
      "source": [
        "w"
      ]
    },
    {
      "cell_type": "code",
      "execution_count": null,
      "metadata": {
        "id": "tfZz35z1Wy3g"
      },
      "outputs": [],
      "source": [
        "V = {}\n",
        "for s in robot.States:\n",
        "    if s not in robot.actions.keys():\n",
        "        V[s] = 0\n",
        "    else:\n",
        "        V[s] = predictV(s,w,featurizer='poly')"
      ]
    },
    {
      "cell_type": "code",
      "execution_count": null,
      "metadata": {
        "scrolled": true,
        "id": "N7KvwNhQWy3g"
      },
      "outputs": [],
      "source": [
        "print_policy(policy,3,4)"
      ]
    },
    {
      "cell_type": "code",
      "execution_count": null,
      "metadata": {
        "id": "-DjJlhYQWy3g"
      },
      "outputs": [],
      "source": [
        "print_values(V,3,4)"
      ]
    },
    {
      "cell_type": "code",
      "execution_count": null,
      "metadata": {
        "id": "c-BEHK7DWy3h"
      },
      "outputs": [],
      "source": [
        "from sklearn.kernel_approximation import Nystroem\n",
        "X = [[0, 0], [1, 1], [1, 0], [0, 1]]\n",
        "featurizer = Nystroem(gamma=1,random_state=1,n_components=2)\n",
        "X_features = featurizer.fit_transform(X)\n",
        "X_features"
      ]
    },
    {
      "cell_type": "code",
      "execution_count": null,
      "metadata": {
        "id": "gI1ZjLLWWy3h"
      },
      "outputs": [],
      "source": [
        "featurizer.components_"
      ]
    },
    {
      "cell_type": "code",
      "execution_count": null,
      "metadata": {
        "id": "wShKktmiWy3h"
      },
      "outputs": [],
      "source": [
        "def gather_samples(n_episodes=10000):\n",
        "    samples = []\n",
        "    for i in range(n_episodes):\n",
        "        s=robot.initial_state()\n",
        "        samples.append(s)\n",
        "        done=False\n",
        "        while not done:\n",
        "            a = np.random.choice(robot.ACTION_SPACE)\n",
        "            s, r, done=robot.step(a)\n",
        "            samples.append(s)\n",
        "    return samples"
      ]
    },
    {
      "cell_type": "code",
      "execution_count": null,
      "metadata": {
        "id": "p528pMSzWy3h"
      },
      "outputs": [],
      "source": [
        "samples=gather_samples(n_episodes=10000)\n",
        "Nystroem_featurizer = Nystroem(gamma=1,random_state=1,n_components=100)\n",
        "Nystroem_featurizer.fit(samples)"
      ]
    },
    {
      "cell_type": "code",
      "execution_count": null,
      "metadata": {
        "id": "j-LrP-z4Wy3h"
      },
      "outputs": [],
      "source": [
        "Nystroem_featurizer.components_"
      ]
    },
    {
      "cell_type": "code",
      "execution_count": null,
      "metadata": {
        "id": "gMRqUWu4Wy3i"
      },
      "outputs": [],
      "source": [
        "s=[0,0]\n",
        "Nystroem_featurizer.transform([s])"
      ]
    },
    {
      "cell_type": "code",
      "execution_count": null,
      "metadata": {
        "id": "61H9ny_JWy3i"
      },
      "outputs": [],
      "source": [
        "GAMMA=0.9\n",
        "ALPHA = 0.01\n",
        "#Initialize weights as zero\n",
        "w = np.zeros(100) \n",
        "n_episodes = 20000\n",
        "for it in range(n_episodes):\n",
        "    # begin a new episode\n",
        "    s=robot.initial_state()\n",
        "    Vs=predictV(s,w,featurizer='nystroem')\n",
        "    done=False\n",
        "    while not done:\n",
        "        a = epsilon_greedy(policy, s, eps=0.1)\n",
        "        next_s, r, done=robot.step(a)\n",
        "        if done:\n",
        "            target = r\n",
        "        else:\n",
        "            Vnext_s = predictV(next_s,w,featurizer='nystroem')\n",
        "            target = r + GAMMA * Vnext_s\n",
        "        # update the weights\n",
        "        g = gradientV(s,featurizer='nystroem')\n",
        "        err = target - predictV(s,w,featurizer='nystroem')\n",
        "        w += ALPHA * err * g\n",
        "        # update state\n",
        "        s = next_s"
      ]
    },
    {
      "cell_type": "code",
      "execution_count": null,
      "metadata": {
        "id": "LoVRMJV2Wy3i"
      },
      "outputs": [],
      "source": [
        "w"
      ]
    },
    {
      "cell_type": "code",
      "execution_count": null,
      "metadata": {
        "id": "B9LkrwCbWy3i"
      },
      "outputs": [],
      "source": [
        "V = {}\n",
        "for s in robot.States:\n",
        "    if s not in robot.actions.keys():\n",
        "        V[s] = 0\n",
        "    else:\n",
        "        V[s] = predictV(s,w,featurizer='nystroem')"
      ]
    },
    {
      "cell_type": "code",
      "execution_count": null,
      "metadata": {
        "id": "WyQyQ2oWWy3i"
      },
      "outputs": [],
      "source": [
        "print_values(V,3,4)"
      ]
    },
    {
      "cell_type": "code",
      "execution_count": null,
      "metadata": {
        "id": "DrbhmuYGWy3j"
      },
      "outputs": [],
      "source": [
        "from sklearn.kernel_approximation import RBFSampler\n",
        "X = [[0, 0], [1, 1], [1, 0], [0, 1]]\n",
        "featurizer = RBFSampler(n_components=3)\n",
        "featurizer.fit(X)\n",
        "X_features = featurizer.transform(X)\n",
        "X_features"
      ]
    },
    {
      "cell_type": "code",
      "execution_count": null,
      "metadata": {
        "id": "Ld_P0sFNWy3j"
      },
      "outputs": [],
      "source": [
        "RBFSampler()"
      ]
    },
    {
      "cell_type": "code",
      "execution_count": null,
      "metadata": {
        "id": "Iiu7lUFIWy3j"
      },
      "outputs": [],
      "source": [
        "rbf_featurizer = RBFSampler(n_components=100)\n",
        "rbf_featurizer.fit(samples)"
      ]
    },
    {
      "cell_type": "code",
      "execution_count": null,
      "metadata": {
        "id": "H0adG5p4Wy3j"
      },
      "outputs": [],
      "source": [
        "GAMMA=0.9\n",
        "ALPHA = 0.01\n",
        "#Initialize weights as zero\n",
        "w = np.zeros(100) \n",
        "n_episodes = 100000\n",
        "for it in range(n_episodes):\n",
        "    # begin a new episode\n",
        "    s=robot.initial_state()\n",
        "    Vs=predictV(s,w,featurizer='rbf')\n",
        "    done=False\n",
        "    while not done:\n",
        "        a = epsilon_greedy(policy, s, eps=0.1)\n",
        "        next_s, r, done=robot.step(a)\n",
        "        if done:\n",
        "            target = r\n",
        "        else:\n",
        "            Vnext_s = predictV(next_s,w,featurizer='rbf')\n",
        "            target = r + GAMMA * Vnext_s\n",
        "        # update the weights\n",
        "        g = gradientV(s,featurizer='rbf')\n",
        "        err = target -  predictV(s,w,featurizer='rbf')\n",
        "        w += ALPHA * err * g\n",
        "        # update state\n",
        "        s = next_s"
      ]
    },
    {
      "cell_type": "code",
      "execution_count": null,
      "metadata": {
        "id": "P2zwQKswWy3j"
      },
      "outputs": [],
      "source": [
        "V = {}\n",
        "for s in robot.States:\n",
        "    if s not in robot.actions.keys():\n",
        "        V[s] = 0\n",
        "    else:\n",
        "        V[s] = predictV(s,w,featurizer='rbf')"
      ]
    },
    {
      "cell_type": "code",
      "execution_count": null,
      "metadata": {
        "id": "YO8OErD7Wy3j"
      },
      "outputs": [],
      "source": [
        "print_values(V,3,4)"
      ]
    },
    {
      "cell_type": "code",
      "execution_count": null,
      "metadata": {
        "id": "fBzZ_HpEWy3k"
      },
      "outputs": [],
      "source": []
    }
  ],
  "metadata": {
    "kernelspec": {
      "display_name": "Python 3",
      "language": "python",
      "name": "python3"
    },
    "language_info": {
      "codemirror_mode": {
        "name": "ipython",
        "version": 3
      },
      "file_extension": ".py",
      "mimetype": "text/x-python",
      "name": "python",
      "nbconvert_exporter": "python",
      "pygments_lexer": "ipython3",
      "version": "3.8.8"
    },
    "colab": {
      "provenance": []
    }
  },
  "nbformat": 4,
  "nbformat_minor": 0
}