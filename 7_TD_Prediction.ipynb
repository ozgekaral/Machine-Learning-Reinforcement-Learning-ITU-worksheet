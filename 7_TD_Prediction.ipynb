{
  "cells": [
    {
      "cell_type": "code",
      "execution_count": null,
      "metadata": {
        "id": "J3_adtSSWeJ3"
      },
      "outputs": [],
      "source": [
        "import matplotlib.pyplot as plt\n",
        "import GridWorld\n",
        "import numpy as np\n",
        "import pandas as pd"
      ]
    },
    {
      "cell_type": "code",
      "execution_count": null,
      "metadata": {
        "id": "AZz9T6HkWeJ5"
      },
      "outputs": [],
      "source": [
        "robot=GridWorld.grid_world()"
      ]
    },
    {
      "cell_type": "code",
      "execution_count": null,
      "metadata": {
        "id": "6HI5ugOHWeJ5"
      },
      "outputs": [],
      "source": [
        "def print_values(V, rows,columns):\n",
        "    for i in range(rows):\n",
        "        print(\"---------------------------\")\n",
        "        for j in range(columns):\n",
        "            v = V.get((i,j), 0)\n",
        "            if v >= 0:\n",
        "                print(\" %.2f|\" % v, end=\"\")\n",
        "            else:\n",
        "                print(\"%.2f|\" % v, end=\"\") # -ve sign takes up an extra space\n",
        "        print(\"\")\n",
        "def print_policy(policy,rows,columns):\n",
        "    for i in range(rows):\n",
        "        print(\"---------------------------\")\n",
        "        for j in range(columns):\n",
        "            a = policy.get((i,j), ' ')\n",
        "            print(\"  %s  |\" % a, end=\"\")\n",
        "        print(\"\")"
      ]
    },
    {
      "cell_type": "code",
      "execution_count": null,
      "metadata": {
        "id": "cggIigEjWeJ6"
      },
      "outputs": [],
      "source": [
        "### fixed policy ###\n",
        "policy = {\n",
        "    (2, 0): 'U',\n",
        "    (1, 0): 'U',\n",
        "    (0, 0): 'R',\n",
        "    (0, 1): 'R',\n",
        "    (0, 2): 'R',\n",
        "    (1, 2): 'R',\n",
        "    (2, 1): 'R',\n",
        "    (2, 2): 'R',\n",
        "    (2, 3): 'U',\n",
        "  }"
      ]
    },
    {
      "cell_type": "code",
      "execution_count": null,
      "metadata": {
        "id": "GO8xLgHAWeJ6"
      },
      "outputs": [],
      "source": [
        "# initialize V(s)\n",
        "V = {}\n",
        "for s in robot.States:\n",
        "    V[s] = 0"
      ]
    },
    {
      "cell_type": "code",
      "execution_count": null,
      "metadata": {
        "id": "ODm-Zz4XWeJ6"
      },
      "outputs": [],
      "source": [
        "V"
      ]
    },
    {
      "cell_type": "code",
      "execution_count": null,
      "metadata": {
        "id": "NyMk0l2qWeJ6"
      },
      "outputs": [],
      "source": [
        "GAMMA=0.9\n",
        "ALPHA = 0.1\n",
        "# store max change in V(s) per episode\n",
        "deltas = []\n",
        "# repeat until convergence\n",
        "n_episodes = 10000\n",
        "for it in range(n_episodes):\n",
        "    # begin a new episode\n",
        "    s=robot.initial_state()\n",
        "    delta = 0\n",
        "    done=False\n",
        "    while not done:\n",
        "        a = policy[s]\n",
        "        next_s, r, done=robot.step(a)\n",
        "        # update V(s)\n",
        "        v_old = V[s]\n",
        "        V[s] = V[s] + ALPHA*(r + GAMMA*V[next_s] - V[s])\n",
        "        delta = max(delta, np.abs(V[s] - v_old))\n",
        "        # next state becomes current state\n",
        "        s = next_s\n",
        "        # store delta\n",
        "        deltas.append(delta)\n",
        "\n",
        "plt.plot(deltas)\n",
        "plt.show()"
      ]
    },
    {
      "cell_type": "code",
      "execution_count": null,
      "metadata": {
        "id": "d-HomNmpWeJ7"
      },
      "outputs": [],
      "source": [
        "print_policy(policy,3,4)"
      ]
    },
    {
      "cell_type": "code",
      "execution_count": null,
      "metadata": {
        "id": "0Rq8xm95WeJ7"
      },
      "outputs": [],
      "source": [
        "print_values(V,3,4)"
      ]
    },
    {
      "cell_type": "code",
      "execution_count": null,
      "metadata": {
        "id": "C25cZmAeWeJ7"
      },
      "outputs": [],
      "source": []
    }
  ],
  "metadata": {
    "kernelspec": {
      "display_name": "Python 3",
      "language": "python",
      "name": "python3"
    },
    "language_info": {
      "codemirror_mode": {
        "name": "ipython",
        "version": 3
      },
      "file_extension": ".py",
      "mimetype": "text/x-python",
      "name": "python",
      "nbconvert_exporter": "python",
      "pygments_lexer": "ipython3",
      "version": "3.8.8"
    },
    "colab": {
      "provenance": []
    }
  },
  "nbformat": 4,
  "nbformat_minor": 0
}