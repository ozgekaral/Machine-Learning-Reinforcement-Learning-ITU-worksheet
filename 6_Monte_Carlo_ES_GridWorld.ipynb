{
  "cells": [
    {
      "cell_type": "code",
      "execution_count": null,
      "metadata": {
        "id": "SZipsw5DWaSY"
      },
      "outputs": [],
      "source": [
        "import matplotlib.pyplot as plt\n",
        "import GridWorld\n",
        "import numpy as np\n",
        "import pandas as pd"
      ]
    },
    {
      "cell_type": "code",
      "execution_count": null,
      "metadata": {
        "id": "sbMzuKl2WaSZ"
      },
      "outputs": [],
      "source": [
        "robot=GridWorld.grid_world()"
      ]
    },
    {
      "cell_type": "code",
      "execution_count": null,
      "metadata": {
        "id": "k2eDbdEKWaSa"
      },
      "outputs": [],
      "source": [
        "robot.initial_state()"
      ]
    },
    {
      "cell_type": "code",
      "execution_count": null,
      "metadata": {
        "id": "IiG8GWa0WaSa"
      },
      "outputs": [],
      "source": [
        "robot.s"
      ]
    },
    {
      "cell_type": "code",
      "execution_count": null,
      "metadata": {
        "id": "fzaNhd8JWaSa"
      },
      "outputs": [],
      "source": [
        "def print_values(V, rows,columns):\n",
        "    for i in range(rows):\n",
        "        print(\"---------------------------\")\n",
        "        for j in range(columns):\n",
        "            v = V.get((i,j), 0)\n",
        "            if v >= 0:\n",
        "                print(\" %.2f|\" % v, end=\"\")\n",
        "            else:\n",
        "                print(\"%.2f|\" % v, end=\"\") # -ve sign takes up an extra space\n",
        "        print(\"\")\n",
        "def print_policy(policy,rows,columns):\n",
        "    for i in range(rows):\n",
        "        print(\"---------------------------\")\n",
        "        for j in range(columns):\n",
        "              a = policy.get((i,j), ' ')\n",
        "              print(\"  %s  |\" % a, end=\"\")\n",
        "        print(\"\")"
      ]
    },
    {
      "cell_type": "code",
      "execution_count": null,
      "metadata": {
        "id": "wR17M8XuWaSa"
      },
      "outputs": [],
      "source": [
        "def play_episode(policy,max_steps=20):\n",
        "    s=robot.initial_state()\n",
        "    a = np.random.choice(robot.ACTION_SPACE) # first action is uniformly random\n",
        "    # keep track of all states and rewards encountered\n",
        "    episodestates = [s]\n",
        "    episodeactions = []\n",
        "    episoderewards = [0]\n",
        "    steps = 0\n",
        "    done=False\n",
        "    while not done:\n",
        "        a = policy[s]\n",
        "        episodeactions.append(a)\n",
        "        next_s, r, done=robot.step(a)\n",
        "        # update states and rewards lists\n",
        "        episodestates.append(next_s)\n",
        "        episoderewards.append(r)\n",
        "        s=next_s\n",
        "        steps += 1\n",
        "        if steps >= max_steps:\n",
        "            break\n",
        "    # update state\n",
        "    # note: there is no need to store the final terminal state\n",
        "    s = next_s\n",
        "    # we want to return:\n",
        "    # gamestates  = [s(0), s(1), ..., S(T)]\n",
        "    # gamerewards = [R(0), R(1), ..., R(T)]\n",
        "    # gameactions = [a(0), a(1), ...,a(T-1) ]\n",
        "    return episodestates, episodeactions,episoderewards"
      ]
    },
    {
      "cell_type": "code",
      "execution_count": null,
      "metadata": {
        "id": "-G5D6k3AWaSb"
      },
      "outputs": [],
      "source": [
        "policy = {}\n",
        "for s in robot.actions.keys():\n",
        "    policy[s] = np.random.choice(robot.actions.get(s))\n",
        "policy"
      ]
    },
    {
      "cell_type": "code",
      "execution_count": null,
      "metadata": {
        "id": "IryxEGrfWaSb"
      },
      "outputs": [],
      "source": [
        "play_episode(policy,max_steps=20)"
      ]
    },
    {
      "cell_type": "code",
      "execution_count": null,
      "metadata": {
        "id": "BedcHmdqWaSb"
      },
      "outputs": [],
      "source": [
        "def max_dict(d):\n",
        "    # returns the argmax (key) and max (value) from a dictionary\n",
        "    # put this into a function since we are using it so often\n",
        "\n",
        "    # find max val\n",
        "    max_val = max(d.values())\n",
        "\n",
        "    # find keys corresponding to max val\n",
        "    max_keys = [key for key, val in d.items() if val == max_val]\n",
        "\n",
        "    return np.random.choice(max_keys), max_val"
      ]
    },
    {
      "cell_type": "code",
      "execution_count": null,
      "metadata": {
        "id": "x8jqdxQfWaSc"
      },
      "outputs": [],
      "source": [
        "# initialize Q(s,a) and returns\n",
        "Q = {}\n",
        "sample_counts = {}\n",
        "state_sample_count={}\n",
        "for s in robot.States:\n",
        "    if s in robot.actions.keys(): # not a terminal state\n",
        "        Q[s] = {}\n",
        "        sample_counts[s] = {}\n",
        "        state_sample_count[s] = 0\n",
        "        for a in robot.ACTION_SPACE:\n",
        "            Q[s][a] = 0\n",
        "            sample_counts[s][a] = 0"
      ]
    },
    {
      "cell_type": "code",
      "execution_count": null,
      "metadata": {
        "id": "3n9VJbzDWaSc"
      },
      "outputs": [],
      "source": [
        "Q"
      ]
    },
    {
      "cell_type": "code",
      "execution_count": null,
      "metadata": {
        "id": "qUcYej3dWaSc"
      },
      "outputs": [],
      "source": [
        "sample_counts"
      ]
    },
    {
      "cell_type": "code",
      "execution_count": null,
      "metadata": {
        "id": "tQEDkq9GWaSd"
      },
      "outputs": [],
      "source": [
        "GAMMA=0.9\n",
        "# repeat until convergence\n",
        "deltas = []\n",
        "for it in range(200000):\n",
        "    if it % 1000 == 0:\n",
        "        print(it)\n",
        "\n",
        "    # generate an episode using pi\n",
        "    biggest_change = 0\n",
        "    episodestates, episodeactions, episoderewards = play_episode(policy)\n",
        "    # create a list of only state-action pairs for lookup\n",
        "    states_actions = list(zip(episodestates, episodeactions))\n",
        "\n",
        "    T = len(episodestates)\n",
        "    G = 0\n",
        "    for t in range(T - 2, -1, -1):\n",
        "        # retrieve current s, a, r tuple\n",
        "        s = episodestates[t]\n",
        "        a = episodeactions[t]\n",
        "        # update G\n",
        "        G = episoderewards[t+1] + GAMMA * G\n",
        "\n",
        "        # check if we have already seen (s, a) (\"first-visit\")\n",
        "        if (s, a) not in states_actions[:t]:\n",
        "            old_q = Q[s][a]\n",
        "            sample_counts[s][a] += 1\n",
        "            lr = 1 / sample_counts[s][a]\n",
        "            Q[s][a] = old_q + lr * (G - old_q) #Remember the incremental implementation of taking averages\n",
        "\n",
        "            # update policy\n",
        "            policy[s] = max_dict(Q[s])[0]\n",
        "            state_sample_count[s]+=1\n",
        "\n",
        "        # update delta\n",
        "            biggest_change = max(biggest_change, np.abs(old_q - Q[s][a]))\n",
        "        deltas.append(biggest_change)\n",
        "\n",
        "plt.plot(deltas)\n",
        "#plt.xscale('log')\n",
        "plt.show()"
      ]
    },
    {
      "cell_type": "code",
      "execution_count": null,
      "metadata": {
        "id": "XyLrFRt8WaSd"
      },
      "outputs": [],
      "source": [
        "Q"
      ]
    },
    {
      "cell_type": "code",
      "execution_count": null,
      "metadata": {
        "id": "B5TwWabmWaSe"
      },
      "outputs": [],
      "source": [
        "print_policy(policy,3,4)"
      ]
    },
    {
      "cell_type": "code",
      "execution_count": null,
      "metadata": {
        "id": "bBlHlxONWaSe"
      },
      "outputs": [],
      "source": [
        "# find V\n",
        "V = {}\n",
        "for s, Qs in Q.items():\n",
        "    V[s] = max_dict(Q[s])[1]"
      ]
    },
    {
      "cell_type": "code",
      "execution_count": null,
      "metadata": {
        "id": "v0TubbRCWaSe"
      },
      "outputs": [],
      "source": [
        "V"
      ]
    },
    {
      "cell_type": "code",
      "execution_count": null,
      "metadata": {
        "id": "qP5ffuTgWaSe"
      },
      "outputs": [],
      "source": [
        "print_values(V,3,4)"
      ]
    },
    {
      "cell_type": "code",
      "execution_count": null,
      "metadata": {
        "id": "3BvVvS7cWaSe"
      },
      "outputs": [],
      "source": [
        "state_sample_count_arr = np.zeros((3, 4))\n",
        "for i in range(3):\n",
        "    for j in range(4):\n",
        "        if (i, j) in state_sample_count:\n",
        "            state_sample_count_arr[i,j] = state_sample_count[(i, j)]\n",
        "    df = pd.DataFrame(state_sample_count_arr)\n",
        "print(df)"
      ]
    },
    {
      "cell_type": "code",
      "execution_count": null,
      "metadata": {
        "id": "tp6mTy8EWaSe"
      },
      "outputs": [],
      "source": []
    }
  ],
  "metadata": {
    "kernelspec": {
      "display_name": "Python 3",
      "language": "python",
      "name": "python3"
    },
    "language_info": {
      "codemirror_mode": {
        "name": "ipython",
        "version": 3
      },
      "file_extension": ".py",
      "mimetype": "text/x-python",
      "name": "python",
      "nbconvert_exporter": "python",
      "pygments_lexer": "ipython3",
      "version": "3.8.8"
    },
    "colab": {
      "provenance": []
    }
  },
  "nbformat": 4,
  "nbformat_minor": 0
}